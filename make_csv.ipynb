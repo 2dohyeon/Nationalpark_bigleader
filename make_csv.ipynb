{
 "cells": [
  {
   "cell_type": "code",
   "execution_count": 1,
   "metadata": {},
   "outputs": [],
   "source": [
    "import pandas as pd\n",
    "import geopandas as gpd"
   ]
  },
  {
   "cell_type": "code",
   "execution_count": 4,
   "metadata": {},
   "outputs": [],
   "source": [
    "park_data = pd.read_excel('./data/240320_final_data_ver3.xlsx')"
   ]
  },
  {
   "cell_type": "code",
   "execution_count": 5,
   "metadata": {},
   "outputs": [],
   "source": [
    "gdf_park_data = gpd.GeoDataFrame(park_data, \n",
    "                            geometry=gpd.points_from_xy(park_data.경도_변환, park_data.위도_변환),\n",
    "                            crs='epsg:4326'\n",
    "                            )\n",
    "# gdf_safety_place = gpd.GeoDataFrame(safety_place, \n",
    "#                             geometry=gpd.points_from_xy(safety_place.경도, safety_place.위도),\n",
    "#                             crs='epsg:4326'\n",
    "#                             )\n",
    "# gdf_sign_place = gpd.GeoDataFrame(sign_place, \n",
    "#                             geometry=gpd.points_from_xy(sign_place.경도, sign_place.위도),\n",
    "#                             crs='epsg:4326'\n",
    "#                             )"
   ]
  },
  {
   "cell_type": "code",
   "execution_count": 6,
   "metadata": {},
   "outputs": [
    {
     "ename": "",
     "evalue": "",
     "output_type": "error",
     "traceback": [
      "\u001b[1;31mThe Kernel crashed while executing code in the current cell or a previous cell. \n",
      "\u001b[1;31mPlease review the code in the cell(s) to identify a possible cause of the failure. \n",
      "\u001b[1;31mClick <a href='https://aka.ms/vscodeJupyterKernelCrash'>here</a> for more info. \n",
      "\u001b[1;31mView Jupyter <a href='command:jupyter.viewOutput'>log</a> for further details."
     ]
    }
   ],
   "source": [
    "gdf_park_data.to_file(\"./data/park_data2.gpkg\", layer='park_data', driver=\"GPKG\")\n",
    "# gdf_safety_place.to_file(\"./data/safety_place.gpkg\", layer='safety_place', driver=\"GPKG\")\n",
    "# gdf_sign_place.to_file(\"./data/sign_place.gpkg\", layer='sign_place', driver=\"GPKG\")"
   ]
  },
  {
   "cell_type": "code",
   "execution_count": 6,
   "metadata": {},
   "outputs": [],
   "source": [
    "# GeoPackage 파일로부터 GeoDataFrame 불러오기\n",
    "npark_boundary = gpd.read_file('./data/Protected_areas_OECM_Republic_of_Korea_ver_2023.shp', encoding='cp949')\n",
    "gdf_park_data_loaded = gpd.read_file(\"./data/park_data.gpkg\", layer='park_data')\n",
    "gdf_safety_place_loaded = gpd.read_file(\"./data/safety_place.gpkg\", layer='safety_place')\n",
    "gdf_sign_place_loaded = gpd.read_file(\"./data/sign_place.gpkg\", layer='sign_place')\n",
    "df_탐방로 = gpd.read_file('./data/국립공원시설_선형시설.shp')"
   ]
  },
  {
   "cell_type": "code",
   "execution_count": 8,
   "metadata": {},
   "outputs": [],
   "source": [
    "npark_boundary = npark_boundary[npark_boundary['DESIG']=='국립공원']"
   ]
  },
  {
   "cell_type": "code",
   "execution_count": 10,
   "metadata": {},
   "outputs": [],
   "source": [
    "npark_boundary.to_file(\"./data/npark_boundary.gpkg\", layer='npark_boundary', driver=\"GPKG\")"
   ]
  },
  {
   "cell_type": "code",
   "execution_count": 11,
   "metadata": {},
   "outputs": [
    {
     "data": {
      "text/plain": [
       "RangeIndex(start=0, stop=6113, step=1)"
      ]
     },
     "execution_count": 11,
     "metadata": {},
     "output_type": "execute_result"
    }
   ],
   "source": [
    "gdf_park_data"
   ]
  },
  {
   "cell_type": "code",
   "execution_count": null,
   "metadata": {},
   "outputs": [],
   "source": []
  }
 ],
 "metadata": {
  "kernelspec": {
   "display_name": "llm",
   "language": "python",
   "name": "python3"
  },
  "language_info": {
   "codemirror_mode": {
    "name": "ipython",
    "version": 3
   },
   "file_extension": ".py",
   "mimetype": "text/x-python",
   "name": "python",
   "nbconvert_exporter": "python",
   "pygments_lexer": "ipython3",
   "version": "3.9.18"
  }
 },
 "nbformat": 4,
 "nbformat_minor": 2
}
